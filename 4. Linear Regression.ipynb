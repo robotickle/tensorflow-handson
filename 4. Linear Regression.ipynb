{
 "cells": [
  {
   "cell_type": "code",
   "execution_count": null,
   "metadata": {
    "collapsed": true
   },
   "outputs": [],
   "source": [
    "# Linear regression - the predicted data points in a plane is a regression which is linear.  \n",
    "# non-linear descrete - not covered in this tutorial.\n",
    "\n",
    "# unlock device confirmation #CM201 705 29_12 49 37488 will by May 31"
   ]
  },
  {
   "cell_type": "code",
   "execution_count": null,
   "metadata": {
    "collapsed": true
   },
   "outputs": [],
   "source": [
    "## ops :   takes N i/p produces N o/p.\n",
    "    # Addition, Multiplication ops - takes two i/p and produces one o/p\n",
    "\n",
    "## source ops: takes NO i/p.\n",
    "    # Constants, Variables.\n",
    "    \n",
    "## Inputs and Outputs are multi-dimensional Arrays -> Tensor (hence tensorflow)  : They have Type and Shape.\n"
   ]
  }
 ],
 "metadata": {
  "kernelspec": {
   "display_name": "Python 3",
   "language": "python",
   "name": "python3"
  },
  "language_info": {
   "codemirror_mode": {
    "name": "ipython",
    "version": 3
   },
   "file_extension": ".py",
   "mimetype": "text/x-python",
   "name": "python",
   "nbconvert_exporter": "python",
   "pygments_lexer": "ipython3",
   "version": "3.6.1"
  }
 },
 "nbformat": 4,
 "nbformat_minor": 2
}
