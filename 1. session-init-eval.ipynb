{
 "cells": [
  {
   "cell_type": "code",
   "execution_count": 3,
   "metadata": {},
   "outputs": [
    {
     "name": "stdout",
     "output_type": "stream",
     "text": [
      "Hello World!\n"
     ]
    }
   ],
   "source": [
    "print (\"Hello World!\")"
   ]
  },
  {
   "cell_type": "code",
   "execution_count": 4,
   "metadata": {
    "collapsed": true
   },
   "outputs": [],
   "source": [
    "import tensorflow as tf"
   ]
  },
  {
   "cell_type": "code",
   "execution_count": 31,
   "metadata": {},
   "outputs": [
    {
     "name": "stdout",
     "output_type": "stream",
     "text": [
      "2382\n"
     ]
    }
   ],
   "source": [
    "x = tf.Variable(13, name='x')\n",
    "y = tf.Variable(14, name='y')\n",
    "f = x*x*y + y + 2\n",
    "\n",
    "sess = tf.Session()                         #Open Session (open_default_session)\n",
    "sess.run(x.initializer)                     #init all vars\n",
    "sess.run(y.initializer)                     \n",
    "\n",
    "result = sess.run(f)                        #Session.run(f)\n",
    "print(result)\n",
    "\n",
    "sess.close()"
   ]
  },
  {
   "cell_type": "code",
   "execution_count": 17,
   "metadata": {},
   "outputs": [
    {
     "name": "stdout",
     "output_type": "stream",
     "text": [
      "342\n"
     ]
    }
   ],
   "source": [
    "# Instead of manually init'ing each variable, and then running.\n",
    "# We can create a global_variable_initializer() or InteractiveSession\n",
    "# And instead use eval() which will run on default session, and close the session.\n",
    "\n",
    "xx = tf.Variable(13, name='xx')\n",
    "yy = tf.Variable(2, name='yy')\n",
    "f = xx*xx*yy + yy + 2\n",
    "\n",
    "with tf.Session() as sess:                   #open Session\n",
    "    init = tf.global_variables_initializer() #prep init-all node\n",
    "    init.run()                               #run init\n",
    "    result = f.eval()                        #eval\n",
    "    print(result)\n",
    "    "
   ]
  },
  {
   "cell_type": "code",
   "execution_count": 38,
   "metadata": {},
   "outputs": [
    {
     "name": "stdout",
     "output_type": "stream",
     "text": [
      "342\n"
     ]
    }
   ],
   "source": [
    "# An alternate solution for development mode is InteractiveSession\n",
    "# Interactive sessions are like default session, but for Jupyter or Python \n",
    "\n",
    "xx = tf.Variable(13, name='xx')\n",
    "yy = tf.Variable(2, name='yy')\n",
    "f = xx*xx*yy + yy + 2\n",
    "\n",
    "init = tf.global_variables_initializer()  #prep init-all node\n",
    "sess = tf.InteractiveSession()            #open interactive-session\n",
    "init.run()                                #run init\n",
    "result = f.eval()                         #eval\n",
    "print(result)\n",
    "\n",
    "sess.close()"
   ]
  },
  {
   "cell_type": "code",
   "execution_count": null,
   "metadata": {
    "collapsed": true
   },
   "outputs": [],
   "source": []
  }
 ],
 "metadata": {
  "kernelspec": {
   "display_name": "Python 3",
   "language": "python",
   "name": "python3"
  },
  "language_info": {
   "codemirror_mode": {
    "name": "ipython",
    "version": 3
   },
   "file_extension": ".py",
   "mimetype": "text/x-python",
   "name": "python",
   "nbconvert_exporter": "python",
   "pygments_lexer": "ipython3",
   "version": "3.6.1"
  }
 },
 "nbformat": 4,
 "nbformat_minor": 2
}
